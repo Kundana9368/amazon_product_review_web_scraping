{
 "cells": [
  {
   "cell_type": "code",
   "execution_count": 1,
   "id": "538baf72-93ca-4783-8fb5-665d9f28a8ab",
   "metadata": {},
   "outputs": [],
   "source": [
    "import csv\n",
    "import pandas as pd\n",
    "from selenium import webdriver\n",
    "from selenium.webdriver.common.by import By\n",
    "from selenium.webdriver.chrome.service import Service\n",
    "from webdriver_manager.chrome import ChromeDriverManager\n",
    "from bs4 import BeautifulSoup\n",
    "import time\n",
    "from tqdm import tqdm"
   ]
  },
  {
   "cell_type": "code",
   "execution_count": 2,
   "id": "ac41b25c-d240-439a-a9f3-4a01f60ae4d6",
   "metadata": {},
   "outputs": [],
   "source": [
    "driver = webdriver.Chrome()"
   ]
  },
  {
   "cell_type": "code",
   "execution_count": 3,
   "id": "a9e7d0f6-dc5a-4033-9a8e-0d5882bbda72",
   "metadata": {},
   "outputs": [],
   "source": [
    "driver.get('https://www.amazon.com/Apple-iPhone-15-128GB-Black/product-reviews/B0CMPMY9ZZ/ref=cm_cr_getr_d_paging_btm_next_10?ie=UTF8&reviewerType=all_reviews')"
   ]
  },
  {
   "cell_type": "code",
   "execution_count": 4,
   "id": "e8b542a0-dc75-41c2-a4ca-f830813562ca",
   "metadata": {},
   "outputs": [],
   "source": [
    "html_data = BeautifulSoup(driver.page_source, 'html.parser')"
   ]
  },
  {
   "cell_type": "code",
   "execution_count": 15,
   "id": "c8a7e18c-cfa5-425d-96d4-beb104a4ab73",
   "metadata": {},
   "outputs": [
    {
     "data": {
      "text/plain": [
       "'/Apple-iPhone-15-128GB-Black/product-reviews/B0CMPMY9ZZ/ref=cm_cr_arp_d_paging_btm_2?ie=UTF8&pageNumber=2&reviewerType=all_reviews'"
      ]
     },
     "execution_count": 15,
     "metadata": {},
     "output_type": "execute_result"
    }
   ],
   "source": [
    "url = html_data.find('li',{'class' : 'a-last'}).a['href']\n",
    "url"
   ]
  },
  {
   "cell_type": "code",
   "execution_count": 5,
   "id": "8c910b31-491f-4494-975f-5d29a46011b3",
   "metadata": {},
   "outputs": [],
   "source": [
    "reviews = html_data.find_all('div',{'data-hook':'review'})"
   ]
  },
  {
   "cell_type": "code",
   "execution_count": 19,
   "id": "e084130c-8c00-473c-b292-4160bab2317f",
   "metadata": {},
   "outputs": [
    {
     "name": "stdout",
     "output_type": "stream",
     "text": [
      "https://www.amazon.com/Apple-iPhone-15-128GB-Black/product-reviews/B0CMPMY9ZZ/ref=cm_cr_arp_d_paging_btm_2?ie=UTF8&pageNumber=2&reviewerType=all_reviews\n",
      "https://www.amazon.com/Apple-iPhone-15-128GB-Black/product-reviews/B0CMPMY9ZZ/ref=cm_cr_arp_d_paging_btm_3?ie=UTF8&pageNumber=3&reviewerType=all_reviews\n",
      "https://www.amazon.com/Apple-iPhone-15-128GB-Black/product-reviews/B0CMPMY9ZZ/ref=cm_cr_arp_d_paging_btm_4?ie=UTF8&pageNumber=4&reviewerType=all_reviews\n",
      "https://www.amazon.com/Apple-iPhone-15-128GB-Black/product-reviews/B0CMPMY9ZZ/ref=cm_cr_arp_d_paging_btm_5?ie=UTF8&pageNumber=5&reviewerType=all_reviews\n",
      "https://www.amazon.com/Apple-iPhone-15-128GB-Black/product-reviews/B0CMPMY9ZZ/ref=cm_cr_arp_d_paging_btm_6?ie=UTF8&pageNumber=6&reviewerType=all_reviews\n",
      "https://www.amazon.com/Apple-iPhone-15-128GB-Black/product-reviews/B0CMPMY9ZZ/ref=cm_cr_arp_d_paging_btm_7?ie=UTF8&pageNumber=7&reviewerType=all_reviews\n",
      "https://www.amazon.com/Apple-iPhone-15-128GB-Black/product-reviews/B0CMPMY9ZZ/ref=cm_cr_arp_d_paging_btm_8?ie=UTF8&pageNumber=8&reviewerType=all_reviews\n",
      "https://www.amazon.com/Apple-iPhone-15-128GB-Black/product-reviews/B0CMPMY9ZZ/ref=cm_cr_arp_d_paging_btm_9?ie=UTF8&pageNumber=9&reviewerType=all_reviews\n",
      "https://www.amazon.com/Apple-iPhone-15-128GB-Black/product-reviews/B0CMPMY9ZZ/ref=cm_cr_arp_d_paging_btm_10?ie=UTF8&pageNumber=10&reviewerType=all_reviews\n"
     ]
    }
   ],
   "source": [
    "i = 0\n",
    "names = []\n",
    "ratings = []\n",
    "rating_dates = []\n",
    "titles = []\n",
    "reviews_text = []\n",
    "while True:\n",
    "    i += 1\n",
    "    url = 'https://www.amazon.com/Apple-iPhone-15-128GB-Black/product-reviews/B0CMPMY9ZZ/ref=cm_cr_arp_d_paging_btm_next_2?ie=UTF8&reviewerType=all_reviews&pageNumber=' + str(i)\n",
    "    driver.get(url)\n",
    "    time.sleep(5)\n",
    "    html_data = BeautifulSoup(driver.page_source, 'html.parser')\n",
    "    reviews = html_data.find_all('div', {'data-hook': 'review'})\n",
    "    for review in reviews:\n",
    "        name = review.find('span', {'class': 'a-profile-name'}).text\n",
    "        names.append(name.strip())\n",
    "        rating = review.find('span', {'class': 'a-icon-alt'}).text\n",
    "        ratings.append(rating)\n",
    "        review_date = review.find('span', {'data-hook': 'review-date'}).text\n",
    "        rating_dates.append(review_date)\n",
    "        title = review.find('a', {'data-hook': 'review-title'}).text.strip()\n",
    "        titles.append(title)\n",
    "        review_text = review.find('span', {'data-hook': 'review-body'}).text.strip()\n",
    "        reviews_text.append(review_text)\n",
    "    next_page_element = html_data.find('li', {'class': 'a-last'}).find('a')\n",
    "    if next_page_element:\n",
    "        next_page_url = next_page_element['href']\n",
    "        url = 'https://www.amazon.com' + next_page_url\n",
    "    else:\n",
    "        break\n",
    "    print(url)\n"
   ]
  },
  {
   "cell_type": "code",
   "execution_count": 21,
   "id": "9c903cc6-9a54-4357-8bb4-168ac11c9586",
   "metadata": {},
   "outputs": [],
   "source": [
    "data = pd.DataFrame({'profile_name': names,\n",
    "                    'rating': ratings,\n",
    "                     'review_date': rating_dates,\n",
    "                    'title': titles,\n",
    "                     'review_text': reviews_text\n",
    "                    })"
   ]
  },
  {
   "cell_type": "code",
   "execution_count": 24,
   "id": "854c292f-453b-4e60-aeb1-f7b9b0e0a3a8",
   "metadata": {},
   "outputs": [
    {
     "data": {
      "text/plain": [
       "rating\n",
       "5.0 out of 5 stars    80\n",
       "4.0 out of 5 stars    12\n",
       "3.0 out of 5 stars     3\n",
       "1.0 out of 5 stars     3\n",
       "2.0 out of 5 stars     2\n",
       "Name: count, dtype: int64"
      ]
     },
     "execution_count": 24,
     "metadata": {},
     "output_type": "execute_result"
    }
   ],
   "source": [
    "data.rating.value_counts()"
   ]
  },
  {
   "cell_type": "code",
   "execution_count": 25,
   "id": "6019b743-4acc-42ee-87fa-751813f07ef0",
   "metadata": {},
   "outputs": [],
   "source": [
    "data.to_csv('iphone15_amazon_reviews')"
   ]
  }
 ],
 "metadata": {
  "kernelspec": {
   "display_name": "Python 3 (ipykernel)",
   "language": "python",
   "name": "python3"
  },
  "language_info": {
   "codemirror_mode": {
    "name": "ipython",
    "version": 3
   },
   "file_extension": ".py",
   "mimetype": "text/x-python",
   "name": "python",
   "nbconvert_exporter": "python",
   "pygments_lexer": "ipython3",
   "version": "3.11.7"
  }
 },
 "nbformat": 4,
 "nbformat_minor": 5
}
