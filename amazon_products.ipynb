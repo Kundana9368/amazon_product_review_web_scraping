{
 "cells": [
  {
   "cell_type": "code",
   "execution_count": 48,
   "id": "3010d107-5180-419b-9b84-8f91144f9628",
   "metadata": {},
   "outputs": [],
   "source": [
    "import csv\n",
    "import pandas as pd\n",
    "from selenium import webdriver\n",
    "from selenium.webdriver.common.by import By\n",
    "from selenium.webdriver.chrome.service import Service\n",
    "from webdriver_manager.chrome import ChromeDriverManager\n",
    "from bs4 import BeautifulSoup\n",
    "import time\n",
    "from tqdm import tqdm"
   ]
  },
  {
   "cell_type": "code",
   "execution_count": 49,
   "id": "e72fcb98-36c3-4161-ae8a-52518386a52a",
   "metadata": {},
   "outputs": [],
   "source": [
    "driver = webdriver.Chrome()"
   ]
  },
  {
   "cell_type": "code",
   "execution_count": 50,
   "id": "5c3a0f03-a115-483f-a652-be56f723eb18",
   "metadata": {},
   "outputs": [],
   "source": [
    "#driver.get('https://www.amazon.com/s?k=laptops&page=2&crid=KYJXXSGJUBEZ&qid=1717268206&sprefix=laptops%2Caps%2C121&ref=sr_pg_2')\n",
    "driver.get('https://www.amazon.com/s?k=mobile+phones&crid=16Z7FEE6864YU&sprefix=mobile+phones%2Caps%2C141&ref=nb_sb_noss_1')"
   ]
  },
  {
   "cell_type": "code",
   "execution_count": 51,
   "id": "62d2dd51-ef67-4ae3-94bb-c5e8c830f044",
   "metadata": {},
   "outputs": [],
   "source": [
    "html_data = BeautifulSoup(driver.page_source, 'html.parser')"
   ]
  },
  {
   "cell_type": "code",
   "execution_count": 52,
   "id": "9ffccab9-d075-452f-9d3f-871b3dea4ba7",
   "metadata": {},
   "outputs": [],
   "source": [
    "pagination_element = html_data.find('span', {'class': 's-pagination-item s-pagination-disabled'})\n",
    "if pagination_element is not None:\n",
    "    number_of_pages = int(pagination_element.text)\n",
    "else:\n",
    "    number_of_pages = 0"
   ]
  },
  {
   "cell_type": "code",
   "execution_count": 53,
   "id": "a016c813-db1d-48e5-b1a0-bb2500a3def6",
   "metadata": {},
   "outputs": [
    {
     "data": {
      "text/plain": [
       "20"
      ]
     },
     "execution_count": 53,
     "metadata": {},
     "output_type": "execute_result"
    }
   ],
   "source": [
    "number_of_pages"
   ]
  },
  {
   "cell_type": "code",
   "execution_count": 54,
   "id": "beb9fe0c-5484-47b7-aeb5-82fd0272cb75",
   "metadata": {},
   "outputs": [],
   "source": [
    "products = html_data.find_all('div', {'data-component-type': 's-search-result'})"
   ]
  },
  {
   "cell_type": "code",
   "execution_count": 55,
   "id": "2e1c981d-3731-4878-b31a-96dacbcb4d41",
   "metadata": {},
   "outputs": [
    {
     "name": "stderr",
     "output_type": "stream",
     "text": [
      "100%|███████████████████████████████████████████| 20/20 [01:48<00:00,  5.42s/it]\n"
     ]
    }
   ],
   "source": [
    "titles = []\n",
    "images = []\n",
    "ratings = []\n",
    "prices = []\n",
    "\n",
    "for i in tqdm(range(number_of_pages)):\n",
    "    #url = 'https://www.amazon.com/s?k=laptops&page=2&crid=KYJXXSGJUBEZ&qid=1717268206&sprefix=laptops%2Caps%2C121&ref=sr_pg_2='+ str(i+1)\n",
    "    url = 'https://www.amazon.com/s?k=mobile+phones&crid=16Z7FEE6864YU&sprefix=mobile+phones%2Caps%2C141&ref=nb_sb_noss_1&page='+ str(i+1)\n",
    "    driver.get(url)\n",
    "    time.sleep(3)\n",
    "    html_data = BeautifulSoup(driver.page_source, 'html.parser')\n",
    "    products = html_data.find_all('div', {'data-component-type': 's-search-result'})\n",
    "    for product in products:\n",
    "        title_element = product.find('span', {'class': 'a-size-medium a-color-base a-text-normal'}) \n",
    "        if title_element:\n",
    "            title = title_element.text\n",
    "            titles.append(title)\n",
    "            img = product.find('img')['src']\n",
    "            images.append(img)\n",
    "            rating = product.find('span', {'class' : 'a-icon-alt'})\n",
    "            if rating == None:\n",
    "                rating = 'No Rating'\n",
    "            else:\n",
    "                rating = product.find('span', {'class' : 'a-icon-alt'}).text\n",
    "            ratings.append(rating)\n",
    "            price_whole_element = product.find('span', {'class': 'a-price-whole'})\n",
    "            price_fraction_element = product.find('span', {'class': 'a-price-fraction'})\n",
    "            if price_whole_element and price_fraction_element:\n",
    "                price = '$' + price_whole_element.text + price_fraction_element.text\n",
    "            elif price_whole_element:\n",
    "                price = '$' + price_whole_element.text\n",
    "            else:\n",
    "                price = 'No Price'\n",
    "            prices.append(price)"
   ]
  },
  {
   "cell_type": "code",
   "execution_count": 56,
   "id": "b817a7a0-cab9-409e-bbd6-2ff9bb1bf9bf",
   "metadata": {},
   "outputs": [
    {
     "data": {
      "text/plain": [
       "402"
      ]
     },
     "execution_count": 56,
     "metadata": {},
     "output_type": "execute_result"
    }
   ],
   "source": [
    "len(titles)"
   ]
  },
  {
   "cell_type": "code",
   "execution_count": 57,
   "id": "461620e3-9129-489d-b281-19b6a5e1c74b",
   "metadata": {},
   "outputs": [],
   "source": [
    "data = pd.DataFrame({'titles':titles, 'images':images, 'ratings':ratings, 'prices':prices})"
   ]
  },
  {
   "cell_type": "code",
   "execution_count": 58,
   "id": "bc4a925d-3087-4cae-975f-1fe550831c58",
   "metadata": {},
   "outputs": [],
   "source": [
    "#data.to_csv('Laptop Products.csv')\n",
    "data.to_csv('Mobile Products.csv')"
   ]
  }
 ],
 "metadata": {
  "kernelspec": {
   "display_name": "Python 3 (ipykernel)",
   "language": "python",
   "name": "python3"
  },
  "language_info": {
   "codemirror_mode": {
    "name": "ipython",
    "version": 3
   },
   "file_extension": ".py",
   "mimetype": "text/x-python",
   "name": "python",
   "nbconvert_exporter": "python",
   "pygments_lexer": "ipython3",
   "version": "3.11.7"
  }
 },
 "nbformat": 4,
 "nbformat_minor": 5
}
